{
 "cells": [
  {
   "cell_type": "code",
   "execution_count": 3,
   "id": "831a5cdf",
   "metadata": {},
   "outputs": [],
   "source": [
    "import matplotlib.pyplot as plt\n",
    "from sklearn.metrics import confusion_matrix, ConfusionMatrixDisplay"
   ]
  },
  {
   "cell_type": "code",
   "execution_count": 4,
   "id": "e1aeb89c",
   "metadata": {},
   "outputs": [],
   "source": [
    "import pickle\n",
    "with open('data/labeled_df.pkl', 'rb') as f:\n",
    "    labeled_df = pickle.load(f)\n",
    "\n",
    "with open('data/test_xy_for_eval.pkl', 'rb') as f:\n",
    "    x_test, y_test = pickle.load(f)\n",
    "\n",
    "with open('data/pseudo_labeled_df.pkl', 'rb') as f:\n",
    "    unlabeled_df = pickle.load(f)"
   ]
  },
  {
   "cell_type": "code",
   "execution_count": 5,
   "id": "2ecb40cc",
   "metadata": {},
   "outputs": [],
   "source": [
    "x_labeled = labeled_df.drop(columns=[\"label\", \"source\"])\n",
    "y_labeled = labeled_df[\"label\"]\n",
    "\n",
    "x_unlabeled = unlabeled_df.drop(columns=[\"label\", \"source\"])\n",
    "y_pseudo = unlabeled_df[\"label\"]\n"
   ]
  },
  {
   "cell_type": "code",
   "execution_count": 7,
   "id": "9c4099f7",
   "metadata": {},
   "outputs": [
    {
     "name": "stdout",
     "output_type": "stream",
     "text": [
      "Step 0: Omni model vs True labels (Neural Net)\n",
      "              precision    recall  f1-score   support\n",
      "\n",
      "         2.0       1.00      0.98      0.99     14826\n",
      "         3.0       1.00      1.00      1.00     30183\n",
      "         4.0       0.94      0.99      0.96      5045\n",
      "         5.0       1.00      1.00      1.00     17889\n",
      "\n",
      "    accuracy                           0.99     67943\n",
      "   macro avg       0.98      0.99      0.99     67943\n",
      "weighted avg       0.99      0.99      0.99     67943\n",
      "\n"
     ]
    }
   ],
   "source": [
    "from sklearn.neural_network import MLPClassifier\n",
    "from sklearn.metrics import classification_report\n",
    "from sklearn.model_selection import train_test_split\n",
    "\n",
    "omni_model = MLPClassifier(\n",
    "    hidden_layer_sizes=(64, 32),\n",
    "    activation=\"relu\",\n",
    "    solver=\"adam\",\n",
    "    max_iter=200,\n",
    ")\n",
    "\n",
    "x_train, x_test, y_train, y_test = train_test_split(x_unlabeled, y_pseudo, test_size=0.2)\n",
    "\n",
    "omni_model.fit(x_train, y_train)\n",
    "\n",
    "# Predict on the test set\n",
    "y_pred = omni_model.predict(x_test)\n",
    "\n",
    "print(\"Step 0: Omni model (Neural Net)\")\n",
    "print(classification_report(y_test, y_pred))"
   ]
  },
  {
   "cell_type": "code",
   "execution_count": null,
   "id": "59095ea1",
   "metadata": {},
   "outputs": [
    {
     "name": "stdout",
     "output_type": "stream",
     "text": [
      "Step 1: True-label model vs Pseudo-labels (Neural Net)\n",
      "              precision    recall  f1-score   support\n",
      "\n",
      "         0.0       0.00      1.00      0.00         1\n",
      "         1.0       0.00      0.00      0.00         6\n",
      "         2.0       0.46      0.96      0.62     73931\n",
      "         3.0       0.00      0.00      0.00    151722\n",
      "         4.0       0.06      0.11      0.08     25396\n",
      "         5.0       0.00      0.00      0.00     88656\n",
      "\n",
      "    accuracy                           0.22    339712\n",
      "   macro avg       0.09      0.34      0.12    339712\n",
      "weighted avg       0.11      0.22      0.14    339712\n",
      "\n"
     ]
    }
   ],
   "source": [
    "from sklearn.neural_network import MLPClassifier\n",
    "from sklearn.metrics import classification_report\n",
    "\n",
    "model1 = MLPClassifier(\n",
    "    hidden_layer_sizes=(64, 32),\n",
    "    activation=\"relu\",\n",
    "    solver=\"adam\",\n",
    "    max_iter=200,\n",
    "    random_state=42\n",
    ")\n",
    "model1.fit(x_labeled, y_labeled)\n",
    "\n",
    "# Predict on unlabeled (pseudo-labeled) data\n",
    "y_pred_unlabeled = model1.predict(x_unlabeled)\n",
    "\n",
    "print(\"Step 1: True-label model vs Pseudo-labels (Neural Net)\")\n",
    "print(classification_report(y_pseudo, y_pred_unlabeled))\n",
    "\n",
    "cm1 = confusion_matrix(y_pseudo, y_pred_unlabeled)\n",
    "disp1 = ConfusionMatrixDisplay(confusion_matrix=cm1)\n",
    "disp1.plot(cmap='Blues')\n",
    "plt.title(\"Confusion Matrix: True-label model vs Pseudo-labels\")\n",
    "plt.show()"
   ]
  },
  {
   "cell_type": "code",
   "execution_count": null,
   "id": "99ea1787",
   "metadata": {},
   "outputs": [
    {
     "name": "stdout",
     "output_type": "stream",
     "text": [
      "Step 2: Pseudo-label model vs True labels (Neural Net)\n",
      "              precision    recall  f1-score   support\n",
      "\n",
      "           0       0.95      0.13      0.23      2736\n",
      "           1       0.93      0.79      0.85     25773\n",
      "           2       0.91      0.92      0.91     50227\n",
      "           3       0.11      0.96      0.20       385\n",
      "           4       0.99      0.99      0.99     31733\n",
      "           5       0.13      0.92      0.23       458\n",
      "\n",
      "    accuracy                           0.89    111312\n",
      "   macro avg       0.67      0.79      0.57    111312\n",
      "weighted avg       0.93      0.89      0.90    111312\n",
      "\n"
     ]
    }
   ],
   "source": [
    "model2 = MLPClassifier(\n",
    "    hidden_layer_sizes=(64, 32),\n",
    "    activation=\"relu\",\n",
    "    solver=\"adam\",\n",
    "    max_iter=200,\n",
    "    random_state=42\n",
    ")\n",
    "model2.fit(x_unlabeled, y_pseudo)\n",
    "\n",
    "# Predict on swapped test set\n",
    "y_pred_labeled = model2.predict(x_test)\n",
    "\n",
    "print(\"Step 2: Pseudo-label model vs True labels (Neural Net)\")\n",
    "print(classification_report(y_test, y_pred_labeled))\n",
    "cm2 = confusion_matrix(y_test, y_pred_labeled)\n",
    "disp2 = ConfusionMatrixDisplay(confusion_matrix=cm2)\n",
    "disp2.plot(cmap='Blues')\n",
    "plt.title(\"Confusion Matrix: Pseudo-label model vs True labels\")\n",
    "plt.show()"
   ]
  }
 ],
 "metadata": {
  "kernelspec": {
   "display_name": "thesis",
   "language": "python",
   "name": "python3"
  },
  "language_info": {
   "codemirror_mode": {
    "name": "ipython",
    "version": 3
   },
   "file_extension": ".py",
   "mimetype": "text/x-python",
   "name": "python",
   "nbconvert_exporter": "python",
   "pygments_lexer": "ipython3",
   "version": "3.12.7"
  }
 },
 "nbformat": 4,
 "nbformat_minor": 5
}
