{
 "cells": [
  {
   "cell_type": "code",
   "execution_count": null,
   "id": "e18745c3",
   "metadata": {},
   "outputs": [],
   "source": [
    "import pickle\n",
    "\n",
    "with open('data/labeled_df.pkl', 'rb') as f:\n",
    "    labeled_df = pickle.load(f)\n",
    "\n",
    "with open('data/pseudo_labeled_df.pkl', 'rb') as f:\n",
    "    unlabeled_df = pickle.load(f)"
   ]
  },
  {
   "cell_type": "code",
   "execution_count": null,
   "id": "1f270d2d",
   "metadata": {},
   "outputs": [],
   "source": [
    "from sklearn.ensemble import RandomForestClassifier\n",
    "from sklearn.metrics import classification_report\n",
    "\n",
    "# Separate features and labels\n",
    "X_labeled = labeled_df.drop(columns=[\"label\"])\n",
    "y_labeled = labeled_df[\"label\"]\n",
    "\n",
    "X_unlabeled = unlabeled_df.drop(columns=[\"label\"])\n",
    "y_pseudo = unlabeled_df[\"label\"]  # pseudo-labels\n",
    "\n",
    "# Train model on true labeled data\n",
    "model1 = RandomForestClassifier(random_state=42)\n",
    "model1.fit(X_labeled, y_labeled)\n",
    "\n",
    "# Predict on unlabeled (pseudo-labeled) data\n",
    "y_pred_unlabeled = model1.predict(X_unlabeled)\n",
    "\n",
    "# Compare to pseudo-labels\n",
    "print(\"🔍 Step 1: True-label model vs Pseudo-labels\")\n",
    "print(classification_report(y_pseudo, y_pred_unlabeled))\n"
   ]
  },
  {
   "cell_type": "code",
   "execution_count": null,
   "id": "22bc54cd",
   "metadata": {},
   "outputs": [],
   "source": [
    "# Train on pseudo-labeled data\n",
    "model2 = RandomForestClassifier(random_state=42)\n",
    "model2.fit(X_unlabeled, y_pseudo)\n",
    "\n",
    "# Predict on labeled data\n",
    "y_pred_labeled = model2.predict(X_labeled)\n",
    "\n",
    "# Compare to true labels\n",
    "print(\"🔁 Step 2: Pseudo-label model vs True labels\")\n",
    "print(classification_report(y_labeled, y_pred_labeled))\n"
   ]
  }
 ],
 "metadata": {
  "language_info": {
   "name": "python"
  }
 },
 "nbformat": 4,
 "nbformat_minor": 5
}
