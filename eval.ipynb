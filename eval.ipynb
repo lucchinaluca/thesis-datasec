{
 "cells": [
  {
   "cell_type": "code",
   "execution_count": 4,
   "id": "e1aeb89c",
   "metadata": {},
   "outputs": [],
   "source": [
    "import pickle\n",
    "with open('data/labeled_df.pkl', 'rb') as f:\n",
    "    labeled_df = pickle.load(f)\n",
    "\n",
    "with open('data/test_xy_for_eval.pkl', 'rb') as f:\n",
    "    x_test, y_test = pickle.load(f)\n",
    "\n",
    "with open('data/pseudo_labeled_df.pkl', 'rb') as f:\n",
    "    unlabeled_df = pickle.load(f)"
   ]
  },
  {
   "cell_type": "code",
   "execution_count": 5,
   "id": "2ecb40cc",
   "metadata": {},
   "outputs": [],
   "source": [
    "x_labeled = labeled_df.drop(columns=[\"label\", \"source\"])\n",
    "y_labeled = labeled_df[\"label\"]\n",
    "\n",
    "x_unlabeled = unlabeled_df.drop(columns=[\"label\", \"source\"])\n",
    "y_pseudo = unlabeled_df[\"label\"]\n"
   ]
  },
  {
   "cell_type": "code",
   "execution_count": 6,
   "id": "59095ea1",
   "metadata": {},
   "outputs": [
    {
     "name": "stdout",
     "output_type": "stream",
     "text": [
      "Step 1: True-label model vs Pseudo-labels (Neural Net)\n",
      "              precision    recall  f1-score   support\n",
      "\n",
      "         0.0       0.00      1.00      0.00         1\n",
      "         1.0       0.00      0.00      0.00         6\n",
      "         2.0       0.46      0.96      0.62     73931\n",
      "         3.0       0.00      0.00      0.00    151722\n",
      "         4.0       0.06      0.11      0.08     25396\n",
      "         5.0       0.00      0.00      0.00     88656\n",
      "\n",
      "    accuracy                           0.22    339712\n",
      "   macro avg       0.09      0.34      0.12    339712\n",
      "weighted avg       0.11      0.22      0.14    339712\n",
      "\n"
     ]
    }
   ],
   "source": [
    "from sklearn.neural_network import MLPClassifier\n",
    "from sklearn.metrics import classification_report\n",
    "\n",
    "model1 = MLPClassifier(\n",
    "    hidden_layer_sizes=(64, 32),\n",
    "    activation=\"relu\",\n",
    "    solver=\"adam\",\n",
    "    max_iter=200,\n",
    "    random_state=42\n",
    ")\n",
    "model1.fit(x_labeled, y_labeled)\n",
    "\n",
    "# Predict on unlabeled (pseudo-labeled) data\n",
    "y_pred_unlabeled = model1.predict(x_unlabeled)\n",
    "\n",
    "print(\"Step 1: True-label model vs Pseudo-labels (Neural Net)\")\n",
    "print(classification_report(y_pseudo, y_pred_unlabeled))"
   ]
  },
  {
   "cell_type": "code",
   "execution_count": null,
   "id": "99ea1787",
   "metadata": {},
   "outputs": [
    {
     "name": "stdout",
     "output_type": "stream",
     "text": [
      "Step 2: Pseudo-label model vs True labels (Neural Net)\n",
      "              precision    recall  f1-score   support\n",
      "\n",
      "           0       0.95      0.13      0.23      2736\n",
      "           1       0.93      0.79      0.85     25773\n",
      "           2       0.91      0.92      0.91     50227\n",
      "           3       0.11      0.96      0.20       385\n",
      "           4       0.99      0.99      0.99     31733\n",
      "           5       0.13      0.92      0.23       458\n",
      "\n",
      "    accuracy                           0.89    111312\n",
      "   macro avg       0.67      0.79      0.57    111312\n",
      "weighted avg       0.93      0.89      0.90    111312\n",
      "\n"
     ]
    }
   ],
   "source": [
    "model2 = MLPClassifier(\n",
    "    hidden_layer_sizes=(64, 32),\n",
    "    activation=\"relu\",\n",
    "    solver=\"adam\",\n",
    "    max_iter=200,\n",
    "    random_state=42\n",
    ")\n",
    "model2.fit(x_unlabeled, y_pseudo)\n",
    "\n",
    "# Predict on swapped test set\n",
    "y_pred_labeled = model2.predict(x_test)\n",
    "\n",
    "print(\"Step 2: Pseudo-label model vs True labels (Neural Net)\")\n",
    "print(classification_report(y_test, y_pred_labeled))"
   ]
  },
  {
   "cell_type": "code",
   "execution_count": null,
   "id": "50a9f10f",
   "metadata": {},
   "outputs": [],
   "source": []
  }
 ],
 "metadata": {
  "kernelspec": {
   "display_name": "thesis",
   "language": "python",
   "name": "python3"
  },
  "language_info": {
   "codemirror_mode": {
    "name": "ipython",
    "version": 3
   },
   "file_extension": ".py",
   "mimetype": "text/x-python",
   "name": "python",
   "nbconvert_exporter": "python",
   "pygments_lexer": "ipython3",
   "version": "3.12.7"
  }
 },
 "nbformat": 4,
 "nbformat_minor": 5
}
