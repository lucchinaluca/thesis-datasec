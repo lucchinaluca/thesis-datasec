{
 "cells": [
  {
   "cell_type": "code",
   "execution_count": 1,
   "id": "21bf8d8b",
   "metadata": {},
   "outputs": [
    {
     "name": "stderr",
     "output_type": "stream",
     "text": [
      "c:\\Users\\lucch\\Desktop\\thesis-datasec\\thesis\\Lib\\site-packages\\tqdm\\auto.py:21: TqdmWarning: IProgress not found. Please update jupyter and ipywidgets. See https://ipywidgets.readthedocs.io/en/stable/user_install.html\n",
      "  from .autonotebook import tqdm as notebook_tqdm\n"
     ]
    },
    {
     "name": "stdout",
     "output_type": "stream",
     "text": [
      "WARNING:tensorflow:From c:\\Users\\lucch\\Desktop\\thesis-datasec\\thesis\\Lib\\site-packages\\tf_keras\\src\\losses.py:2976: The name tf.losses.sparse_softmax_cross_entropy is deprecated. Please use tf.compat.v1.losses.sparse_softmax_cross_entropy instead.\n",
      "\n"
     ]
    }
   ],
   "source": [
    "import pandas as pd\n",
    "import numpy as np\n",
    "import matplotlib.pyplot as plt\n",
    "import seaborn as sns\n",
    "from sklearn.metrics import silhouette_score as sil_, calinski_harabasz_score as calinski_\n",
    "from sklearn.cluster import KMeans, DBSCAN\n",
    "from sklearn.mixture import GaussianMixture\n",
    "from sklearn.decomposition import PCA\n",
    "from sklearn.manifold import TSNE\n",
    "from sklearn.preprocessing import StandardScaler, MinMaxScaler\n",
    "from tqdm import tqdm\n",
    "import re\n",
    "from datetime import datetime, timezone\n",
    "from sklearn.preprocessing import OneHotEncoder\n",
    "import ipaddress\n",
    "from sentence_transformers import SentenceTransformer\n",
    "from sklearn.decomposition import PCA\n",
    "from collections import Counter\n",
    "import plotly.express as px\n",
    "import matplotlib.dates as mdates\n",
    "import folium\n",
    "import pytz\n",
    "from timezonefinder import TimezoneFinder\n",
    "import pickle\n"
   ]
  },
  {
   "cell_type": "code",
   "execution_count": 2,
   "id": "31b41c59",
   "metadata": {},
   "outputs": [],
   "source": [
    "df = pd.read_csv('data/omnipot.csv')"
   ]
  },
  {
   "cell_type": "code",
   "execution_count": 3,
   "id": "42771565",
   "metadata": {},
   "outputs": [],
   "source": [
    "df.drop_duplicates(inplace=True)"
   ]
  },
  {
   "cell_type": "code",
   "execution_count": 4,
   "id": "c8e468f6",
   "metadata": {},
   "outputs": [
    {
     "data": {
      "application/vnd.microsoft.datawrangler.viewer.v0+json": {
       "columns": [
        {
         "name": "index",
         "rawType": "object",
         "type": "string"
        },
        {
         "name": "0",
         "rawType": "int64",
         "type": "integer"
        }
       ],
       "ref": "c8ea4185-22e5-42da-81be-0c4e0c385f32",
       "rows": [
        [
         "src_port",
         "0"
        ],
        [
         "dst_port",
         "0"
        ],
        [
         "timestamp",
         "0"
        ],
        [
         "src_as",
         "2657"
        ],
        [
         "src_city",
         "5"
        ],
        [
         "src_country",
         "0"
        ],
        [
         "src_countryCode",
         "42"
        ],
        [
         "src_geo_str",
         "0"
        ],
        [
         "src_ip",
         "0"
        ],
        [
         "src_proxy",
         "0"
        ],
        [
         "src_regionName",
         "171"
        ],
        [
         "dst_as",
         "0"
        ],
        [
         "dst_city",
         "0"
        ],
        [
         "dst_country",
         "0"
        ],
        [
         "dst_countryCode",
         "0"
        ],
        [
         "dst_geo_str",
         "0"
        ],
        [
         "dst_ip",
         "0"
        ],
        [
         "dst_proxy",
         "0"
        ],
        [
         "dst_regionName",
         "0"
        ],
        [
         "protocol",
         "0"
        ],
        [
         "payload_4kb_hex",
         "209362"
        ]
       ],
       "shape": {
        "columns": 1,
        "rows": 21
       }
      },
      "text/plain": [
       "src_port                0\n",
       "dst_port                0\n",
       "timestamp               0\n",
       "src_as               2657\n",
       "src_city                5\n",
       "src_country             0\n",
       "src_countryCode        42\n",
       "src_geo_str             0\n",
       "src_ip                  0\n",
       "src_proxy               0\n",
       "src_regionName        171\n",
       "dst_as                  0\n",
       "dst_city                0\n",
       "dst_country             0\n",
       "dst_countryCode         0\n",
       "dst_geo_str             0\n",
       "dst_ip                  0\n",
       "dst_proxy               0\n",
       "dst_regionName          0\n",
       "protocol                0\n",
       "payload_4kb_hex    209362\n",
       "dtype: int64"
      ]
     },
     "execution_count": 4,
     "metadata": {},
     "output_type": "execute_result"
    }
   ],
   "source": [
    "df.isna().sum()"
   ]
  },
  {
   "cell_type": "code",
   "execution_count": 5,
   "id": "61b74711",
   "metadata": {},
   "outputs": [],
   "source": [
    "df[\"timestamp\"] = pd.to_datetime(df[\"timestamp\"], unit=\"ms\")"
   ]
  },
  {
   "cell_type": "code",
   "execution_count": 6,
   "id": "5f6c59d2",
   "metadata": {},
   "outputs": [],
   "source": [
    "# filling payload nan with \"\" the ndrop nan that are not in the payload column as empty payloads are valid\n",
    "df.fillna({\"payload_4kb_hex\":\"\"}, inplace=True)\n",
    "df.dropna(inplace=True)"
   ]
  },
  {
   "cell_type": "code",
   "execution_count": 7,
   "id": "d431058d",
   "metadata": {},
   "outputs": [],
   "source": [
    "def get_ip_encoding(ipv4):\n",
    "    oct1, oct2, oct3, oct4 = ipv4.split('.')\n",
    "    return  int(oct1), int(oct2), int(oct3), int(oct4)\n",
    "\n",
    "df[['src_oct1', 'src_oct2', 'src_oct3', 'src_oct4']] = df[\"src_ip\"].apply(get_ip_encoding).apply(pd.Series)\n",
    "df[['dst_oct1', 'dst_oct2', 'dst_oct3', 'dst_oct4']] = df[\"dst_ip\"].apply(get_ip_encoding).apply(pd.Series)"
   ]
  },
  {
   "cell_type": "code",
   "execution_count": 8,
   "id": "0206db9c",
   "metadata": {},
   "outputs": [],
   "source": [
    "df[\"src_geo_str\"] = df[\"src_geo_str\"].str.split(\"|\").apply(lambda lst: [float(x) for x in lst])\n",
    "df[\"dst_geo_str\"] = df[\"dst_geo_str\"].str.split(\"|\").apply(lambda lst: [float(x) for x in lst])"
   ]
  },
  {
   "cell_type": "code",
   "execution_count": 9,
   "id": "49e12bc0",
   "metadata": {},
   "outputs": [],
   "source": [
    "from scipy.stats import entropy\n",
    "\n",
    "def get_payload_features(payload):\n",
    "    default = {'length': 0, 'unique_bytes': 0, 'entropy': 0.0,\n",
    "               'mean_byte': 0.0, 'std_byte': 0.0}\n",
    "    if not isinstance(payload, str) or len(payload) == 0:\n",
    "        return default\n",
    "    try:\n",
    "        data = bytes.fromhex(payload)\n",
    "    except ValueError:\n",
    "        return default\n",
    "    length = len(data)\n",
    "    if length == 0:\n",
    "        return default\n",
    "    arr = np.frombuffer(data, dtype=np.uint8)\n",
    "    counts = np.bincount(arr, minlength=256)\n",
    "    probs = counts / length\n",
    "\n",
    "    probs = probs[probs > 0]\n",
    "    ent = entropy(probs, base=2)\n",
    "    mean = float(arr.mean())\n",
    "    std = float(arr.std())\n",
    "    return {\n",
    "        'length': length,\n",
    "        'unique_bytes': int(np.count_nonzero(counts)),\n",
    "        'entropy': float(ent),\n",
    "        'mean_byte': mean,\n",
    "        'std_byte': std\n",
    "    }\n",
    "\n",
    "payload_feats = ['pl_length', 'pl_unique_bytes', 'pl_entropy', 'pl_mean_byte', 'pl_std_byte']\n",
    "df[payload_feats] = df[\"payload_4kb_hex\"].apply(get_payload_features).apply(pd.Series)"
   ]
  },
  {
   "cell_type": "code",
   "execution_count": 10,
   "id": "05b702fd",
   "metadata": {},
   "outputs": [],
   "source": [
    "def decode_payload(hex_str: str, protocol: str) -> str:\n",
    "    if not hex_str or not isinstance(hex_str, str):\n",
    "        return \"\"\n",
    "    \n",
    "    try:\n",
    "        raw_bytes = bytes.fromhex(hex_str)\n",
    "        if not raw_bytes:\n",
    "            return \"\"\n",
    "\n",
    "        # SSH \n",
    "        if protocol == 'ssh':\n",
    "            # Clean SSH banners\n",
    "            if raw_bytes.startswith(b'SSH-'):\n",
    "                banner = raw_bytes.decode('utf-8', errors='ignore').split('\\n')[0]\n",
    "                return banner.strip()\n",
    "            \n",
    "            # Detect HTTP requests on SSH port\n",
    "            if raw_bytes.startswith((b'GET ', b'POST ', b'HEAD ', b'PUT ')):\n",
    "                try:\n",
    "                    return \"HTTP_OVER_SSH: \" + raw_bytes.decode('utf-8').split('\\r\\n')[0]\n",
    "                except:\n",
    "                    return \"HTTP_OVER_SSH_BINARY\"\n",
    "            \n",
    "            # Detect binary commands\n",
    "            try:\n",
    "                text = raw_bytes.decode('utf-8', errors='ignore')\n",
    "                if any(cmd in text.lower() for cmd in ['wget', 'curl', 'chmod', 'sh -c']):\n",
    "                    return \"SSH_CMD: \" + ' '.join(text.split())[:200]\n",
    "            except:\n",
    "                pass\n",
    "            \n",
    "            return f\"SSH_BINARY_{len(raw_bytes)}B\"\n",
    "\n",
    "        # HTTP/HTTPS\n",
    "        elif protocol in ['http', 'https']:\n",
    "            # Reject SSH banners in HTTP\n",
    "            if raw_bytes.startswith(b'SSH-'):\n",
    "                return \"SSH_OVER_HTTP\"\n",
    "            \n",
    "            # Handle valid HTTP\n",
    "            if raw_bytes.startswith((b'GET ', b'POST ', b'HEAD ', b'PUT ')):\n",
    "                try:\n",
    "                    first_line = raw_bytes.decode('utf-8').split('\\r\\n')[0]\n",
    "                    return f\"HTTP: {first_line}\"\n",
    "                except:\n",
    "                    return \"HTTP_BINARY\"\n",
    "            \n",
    "            # Handle SSL/TLS\n",
    "            if len(raw_bytes) > 0 and raw_bytes[0] == 0x16:\n",
    "                return \"SSL_HANDSHAKE\"\n",
    "            \n",
    "            # Other cases\n",
    "            try:\n",
    "                text = raw_bytes.decode('utf-8', errors='ignore')\n",
    "                if text.strip():\n",
    "                    return f\"HTTP_TEXT: {text[:200]}\"\n",
    "            except:\n",
    "                pass\n",
    "            \n",
    "            return f\"HTTP_BINARY_{len(raw_bytes)}B\"\n",
    "\n",
    "        # SMB \n",
    "        elif protocol == 'smb':\n",
    "            if len(raw_bytes) > 8:\n",
    "                # SMB command mapping\n",
    "                smb_commands = {\n",
    "                    0x00: \"SMB_NEGOTIATE\",\n",
    "                    0x73: \"SMB_NEGOTIATE\",  # Common variant\n",
    "                    0x75: \"SMB_TREE_CONNECT\",\n",
    "                    0x1d: \"SMB_SESSION_SETUP\",\n",
    "                    0x25: \"SMB_CREATE\",\n",
    "                    0x2e: \"SMB_IOCTL\",\n",
    "                    0x32: \"SMB_READ\",\n",
    "                    0x0b: \"SMB_TREE_DISCONNECT\"\n",
    "                }\n",
    "                cmd = smb_commands.get(raw_bytes[4], f\"SMB_UNKNOWN_{raw_bytes[4]}\")\n",
    "                return cmd if cmd != \"SMB_NEGOTIATE\" or raw_bytes[4:8] == b'\\xffSMB' else \"SMB_INVALID\"\n",
    "            return \"SMB_EMPTY\"\n",
    "\n",
    "        # Other Protocols \n",
    "        else:\n",
    "            try:\n",
    "                text = raw_bytes.decode('utf-8', errors='ignore')\n",
    "                if text.strip():\n",
    "                    return f\"{protocol}_TEXT: {text[:200]}\"\n",
    "            except:\n",
    "                pass\n",
    "            return f\"{protocol}_BINARY_{len(raw_bytes)}B\"\n",
    "\n",
    "    except Exception as e:\n",
    "        return f\"DECODE_ERROR_{str(e)}\"\n",
    "\n",
    "# Reapply decoding\n",
    "df['payload_decoded'] = df.apply(\n",
    "    lambda row: decode_payload(row['payload_4kb_hex'], row['protocol']), \n",
    "    axis=1\n",
    ")"
   ]
  },
  {
   "cell_type": "code",
   "execution_count": null,
   "id": "e9f31421",
   "metadata": {},
   "outputs": [
    {
     "name": "stderr",
     "output_type": "stream",
     "text": [
      "c:\\Users\\lucch\\Desktop\\thesis-datasec\\thesis\\Lib\\site-packages\\huggingface_hub\\file_download.py:143: UserWarning: `huggingface_hub` cache-system uses symlinks by default to efficiently store duplicated files but your machine does not support them in C:\\Users\\lucch\\.cache\\huggingface\\hub\\models--microsoft--codebert-base. Caching files will still work but in a degraded version that might require more space on your disk. This warning can be disabled by setting the `HF_HUB_DISABLE_SYMLINKS_WARNING` environment variable. For more details, see https://huggingface.co/docs/huggingface_hub/how-to-cache#limitations.\n",
      "To support symlinks on Windows, you either need to activate Developer Mode or to run Python as an administrator. In order to activate developer mode, see this article: https://docs.microsoft.com/en-us/windows/apps/get-started/enable-your-device-for-development\n",
      "  warnings.warn(message)\n",
      "Xet Storage is enabled for this repo, but the 'hf_xet' package is not installed. Falling back to regular HTTP download. For better performance, install the package with: `pip install huggingface_hub[hf_xet]` or `pip install hf_xet`\n"
     ]
    }
   ],
   "source": [
    "from transformers import AutoTokenizer, AutoModel\n",
    "import torch\n",
    "from sklearn.metrics.pairwise import cosine_similarity\n",
    "\n",
    "def get_code_embeddings(payloads, model_name='microsoft/codebert-base'):\n",
    "    tokenizer = AutoTokenizer.from_pretrained(model_name)\n",
    "    model = AutoModel.from_pretrained(model_name)\n",
    "    model.eval()\n",
    "\n",
    "    device = 'cuda' if torch.cuda.is_available() else 'cpu'\n",
    "    model.to(device)\n",
    "\n",
    "    embeddings = []\n",
    "\n",
    "    with torch.no_grad():\n",
    "        for payload in payloads:\n",
    "            inputs = tokenizer(payload, return_tensors='pt', truncation=True, max_length=512)\n",
    "            inputs = {k: v.to(device) for k, v in inputs.items()}\n",
    "            outputs = model(**inputs)\n",
    "            cls_vector = outputs.last_hidden_state[:, 0, :]\n",
    "            embeddings.append(cls_vector.squeeze().cpu().numpy())\n",
    "\n",
    "    return embeddings\n",
    "\n",
    "# Usage\n",
    "payloads = df['payload_decoded'].astype(str).tolist()\n",
    "vectors = get_code_embeddings(payloads)\n",
    "cosine_sim_matrix = cosine_similarity(vectors)\n"
   ]
  }
 ],
 "metadata": {
  "kernelspec": {
   "display_name": "thesis",
   "language": "python",
   "name": "python3"
  },
  "language_info": {
   "codemirror_mode": {
    "name": "ipython",
    "version": 3
   },
   "file_extension": ".py",
   "mimetype": "text/x-python",
   "name": "python",
   "nbconvert_exporter": "python",
   "pygments_lexer": "ipython3",
   "version": "3.12.7"
  }
 },
 "nbformat": 4,
 "nbformat_minor": 5
}
